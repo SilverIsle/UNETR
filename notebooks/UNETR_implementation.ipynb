{
  "cells": [
    {
      "cell_type": "code",
      "source": [
        "!gdown 16MDItRjOvlbm1rk8hD_OZibWTAu7zAqB\n",
        "!gdown 1JY_tmHxVjkhznNe46y1LNzrNGYwRUQBj\n",
        "!gdown 1qwwr3bYgFPbaRfxjVpXVNC7fZWBx7SgD"
      ],
      "metadata": {
        "colab": {
          "base_uri": "https://localhost:8080/"
        },
        "id": "QGRuJe5pFa6Q",
        "outputId": "df81fded-9d44-4433-c41f-72fc0486c999"
      },
      "execution_count": null,
      "outputs": [
        {
          "output_type": "stream",
          "name": "stdout",
          "text": [
            "Downloading...\n",
            "From: https://drive.google.com/uc?id=16MDItRjOvlbm1rk8hD_OZibWTAu7zAqB\n",
            "To: /content/unet_weights.pth\n",
            "100% 4.25M/4.25M [00:00<00:00, 97.6MB/s]\n",
            "Downloading...\n",
            "From: https://drive.google.com/uc?id=1JY_tmHxVjkhznNe46y1LNzrNGYwRUQBj\n",
            "To: /content/transformer_unet_opt.pth\n",
            "100% 8.47M/8.47M [00:00<00:00, 17.5MB/s]\n",
            "Downloading...\n",
            "From (original): https://drive.google.com/uc?id=1qwwr3bYgFPbaRfxjVpXVNC7fZWBx7SgD\n",
            "From (redirected): https://drive.google.com/uc?id=1qwwr3bYgFPbaRfxjVpXVNC7fZWBx7SgD&confirm=t&uuid=d5519e06-6cf0-4907-b795-aaf2f6074c47\n",
            "To: /content/transformer_unet_weights.pth\n",
            "100% 192M/192M [00:01<00:00, 150MB/s]\n"
          ]
        }
      ]
    },
    {
      "cell_type": "code",
      "execution_count": null,
      "metadata": {
        "id": "4KXUGW3XNlsj"
      },
      "outputs": [],
      "source": [
        "import torch\n",
        "import torch.nn as nn\n",
        "import math\n",
        "import nibabel as nib\n",
        "import numpy as np\n",
        "import matplotlib.pyplot as plt\n",
        "from PIL import Image\n",
        "import torch\n",
        "from torchvision.transforms import Resize\n",
        "import os\n",
        "from tqdm import tqdm\n",
        "device='cuda'"
      ]
    },
    {
      "cell_type": "code",
      "execution_count": null,
      "metadata": {
        "id": "m9d_YYEsQC31"
      },
      "outputs": [],
      "source": [
        "class Embed(nn.Module):\n",
        "  def __init__(self):\n",
        "    super().__init__()\n",
        "    self.patch_emb=nn.Linear(768, 768).to('cuda')\n",
        "    self.pos=torch.arange(start=0, end=256).to('cuda')\n",
        "    self.emb=nn.Embedding(256, 768).to('cuda')\n",
        "  def forward(self, x):\n",
        "    p=self.patch_emb(x)\n",
        "    e=self.emb(self.pos)\n",
        "    return p+e"
      ]
    },
    {
      "cell_type": "code",
      "execution_count": null,
      "metadata": {
        "id": "wy7Lp5uJR68T"
      },
      "outputs": [],
      "source": [
        "class LayerNormalization(nn.Module):\n",
        "  def __init__(self, eps:int=10**-6):\n",
        "    super().__init__()\n",
        "    self.eps=eps\n",
        "    self.gamma=nn.Parameter(torch.ones([1])).to('cuda')\n",
        "    self.beta=nn.Parameter(torch.zeros([1])).to('cuda')\n",
        "  def forward(self, x):\n",
        "    mean=torch.mean(x, dim=-1, keepdim=True)\n",
        "    std=torch.std(x, dim=-1, keepdim=True)\n",
        "    return self.gamma * (x - mean) / (std + self.eps) + self.beta"
      ]
    },
    {
      "cell_type": "code",
      "execution_count": null,
      "metadata": {
        "id": "fLoEkU3WT2uv"
      },
      "outputs": [],
      "source": [
        "class MultiHeadAttention(nn.Module):\n",
        "  def __init__(self, seq_len, d_model, h):\n",
        "    super().__init__()\n",
        "    self.seq_len=seq_len\n",
        "    self.d_model=d_model\n",
        "    self.h=h\n",
        "    assert self.d_model%h == 0, 'restriction applied'\n",
        "    self.d_k=d_model//h\n",
        "    self.w_q=nn.Linear(d_model, d_model).to('cuda')\n",
        "    self.w_k=nn.Linear(d_model, d_model).to('cuda')\n",
        "    self.w_v=nn.Linear(d_model, d_model).to('cuda')\n",
        "    self.w_o=nn.Linear(d_model, d_model).to('cuda')\n",
        "  @staticmethod\n",
        "  def attention_score(q, k, v, d_k, mask):\n",
        "    val=q@k.transpose(-2,-1)/math.sqrt(d_k)\n",
        "    if mask:\n",
        "      torch.masked_fill(val, mask==0, 1e-9)\n",
        "    val=torch.softmax(val, dim=-1)\n",
        "    return val@v, val\n",
        "  def forward(self, q, k, v, mask):\n",
        "    q_=self.w_q(q).reshape(q.shape[0], q.shape[1], self.h, self.d_k).transpose(1,2)\n",
        "    k_=self.w_k(k).reshape(k.shape[0], k.shape[1], self.h, self.d_k).transpose(1,2)\n",
        "    v_=self.w_v(v).reshape(v.shape[0], v.shape[1], self.h, self.d_k).transpose(1,2)\n",
        "    x, attn_score=MultiHeadAttention.attention_score(q_,k_,v_,self.d_k,mask)\n",
        "    x = x.transpose(1, 2).contiguous().view(x.shape[0], -1, self.h * self.d_k)\n",
        "    return self.w_o(x)"
      ]
    },
    {
      "cell_type": "code",
      "execution_count": null,
      "metadata": {
        "id": "CApnbRo3XEiR"
      },
      "outputs": [],
      "source": [
        "class FeedForward(nn.Module):\n",
        "  def __init__(self, d_model, dff):\n",
        "    super().__init__()\n",
        "    self.linear1=nn.Linear(d_model, dff).to('cuda')\n",
        "    self.linear2=nn.Linear(dff, d_model).to('cuda')\n",
        "  def forward(self, x):\n",
        "    x=self.linear2(torch.relu(self.linear1(x)))\n",
        "    return x"
      ]
    },
    {
      "cell_type": "code",
      "execution_count": null,
      "metadata": {
        "id": "fhO4OSmaYDCG"
      },
      "outputs": [],
      "source": [
        "class ResidualNet(nn.Module):\n",
        "  def __init__(self, norm: LayerNormalization):\n",
        "    super().__init__()\n",
        "    self.norm=norm\n",
        "  def forward(self, x, sublayer):\n",
        "    return x + sublayer(self.norm(x))"
      ]
    },
    {
      "cell_type": "code",
      "execution_count": null,
      "metadata": {
        "id": "juKqmNviYgrz"
      },
      "outputs": [],
      "source": [
        "class EncoderBlock(nn.Module):\n",
        "  def __init__(self, self_attention: MultiHeadAttention, feed_forward: FeedForward, resnet: ResidualNet):\n",
        "    super().__init__()\n",
        "    self.self_attention=self_attention\n",
        "    self.feed_forward=feed_forward\n",
        "    self.sub_layer=nn.ModuleList([resnet for _ in range(2)])\n",
        "  def forward(self, x, src_mask):\n",
        "    x=self.sub_layer[0](x, lambda x: self.self_attention(x,x,x, src_mask))\n",
        "    x=self.sub_layer[1](x, lambda x: self.feed_forward(x))\n",
        "    return x"
      ]
    },
    {
      "cell_type": "code",
      "execution_count": null,
      "metadata": {
        "id": "fvXSl5cuc47p"
      },
      "outputs": [],
      "source": [
        "class Encoder(nn.Module):\n",
        "  def __init__(self, norm:LayerNormalization, layers:nn.ModuleList):\n",
        "    super().__init__()\n",
        "    self.layers=layers\n",
        "    self.norm=norm\n",
        "  def forward(self, x, mask):\n",
        "    final=[]\n",
        "    for i,layer in enumerate(self.layers):\n",
        "      x=layer(x, mask)\n",
        "      if i+1 in [3,6,9,12]:\n",
        "        final.append(x)\n",
        "    return self.norm(x), final"
      ]
    },
    {
      "cell_type": "code",
      "execution_count": null,
      "metadata": {
        "id": "x8c0jrlUjsCq"
      },
      "outputs": [],
      "source": [
        "class Transformer(nn.Module):\n",
        "  def __init__(self, embed, encoder):\n",
        "    super().__init__()\n",
        "    self.emb=embed\n",
        "    self.encoder=encoder\n",
        "  def encode(self, x, mask):\n",
        "    x=self.emb(x)\n",
        "    return self.encoder(x, mask)"
      ]
    },
    {
      "cell_type": "code",
      "execution_count": null,
      "metadata": {
        "id": "vJMS-ISMsc89"
      },
      "outputs": [],
      "source": [
        "def build_transformer(len=256, d_model=768, h=6, N=12, dff=1024):\n",
        "\n",
        "  blocks1=[]\n",
        "  for _ in range(N):\n",
        "    en_self_attention=MultiHeadAttention(len, d_model, h).to('cuda')\n",
        "    feed_forward=FeedForward(d_model, dff).to('cuda')\n",
        "    resnet=ResidualNet(LayerNormalization()).to('cuda')\n",
        "    blocks1.append(EncoderBlock(en_self_attention, feed_forward, resnet))\n",
        "\n",
        "\n",
        "  enc=Encoder(LayerNormalization(),nn.ModuleList(blocks1))\n",
        "  emb=Embed()\n",
        "\n",
        "  transformer=Transformer(emb, enc)\n",
        "\n",
        "  return transformer"
      ]
    },
    {
      "cell_type": "code",
      "execution_count": null,
      "metadata": {
        "id": "jJzod02kRsGm"
      },
      "outputs": [],
      "source": [
        "class conv(nn.Module):\n",
        "  def __init__(self, in_c, out_c):\n",
        "    super().__init__()\n",
        "    self.conv=nn.Sequential(\n",
        "            nn.Conv2d(in_c, out_c, kernel_size=3, stride=1, padding=1).to('cuda'),\n",
        "            nn.BatchNorm2d(out_c).to('cuda'),\n",
        "            nn.ReLU()\n",
        "    )\n",
        "  def forward(self, x):\n",
        "    return self.conv(x)"
      ]
    },
    {
      "cell_type": "code",
      "execution_count": null,
      "metadata": {
        "id": "NWv0QrVgV7Vn"
      },
      "outputs": [],
      "source": [
        "class deconv(nn.Module):\n",
        "  def __init__(self, in_c, out_c):\n",
        "    super().__init__()\n",
        "    self.deconv=nn.Sequential(nn.ConvTranspose2d(in_c, out_c, kernel_size=2, stride=2, padding=0)).to('cuda')\n",
        "  def forward(self, x):\n",
        "    return self.deconv(x)"
      ]
    },
    {
      "cell_type": "code",
      "execution_count": null,
      "metadata": {
        "id": "jXGjnnJuYLln"
      },
      "outputs": [],
      "source": [
        "class Decoder(nn.Module):\n",
        "  def __init__(self):\n",
        "    super().__init__()\n",
        "    #decoder 1\n",
        "    self.l1=nn.Sequential(deconv(768, 64))\n",
        "    self.m1=nn.Sequential(\n",
        "            deconv(768, 64),\n",
        "            conv(64, 64)\n",
        "        )\n",
        "    self.k1=nn.Sequential(\n",
        "        conv(64+64, 64),\n",
        "        conv(64, 64)\n",
        "    )\n",
        "\n",
        "    #decoder 2\n",
        "    self.l2=nn.Sequential(deconv(64, 32))\n",
        "    self.m2=nn.Sequential(\n",
        "            deconv(768, 64),\n",
        "            conv(64, 32),\n",
        "            deconv(32, 32),\n",
        "            conv(32, 32)\n",
        "        )\n",
        "    self.k2=nn.Sequential(\n",
        "        conv(32+32, 32),\n",
        "        conv(32, 32)\n",
        "    )\n",
        "\n",
        "    #decoder 3\n",
        "    self.l3=nn.Sequential(deconv(32, 16))\n",
        "    self.m3=nn.Sequential(\n",
        "            deconv(768, 64),\n",
        "            conv(64, 32),\n",
        "            deconv(32, 32),\n",
        "            conv(32, 32),\n",
        "            deconv(32, 16),\n",
        "            conv(16, 16)\n",
        "        )\n",
        "    self.k3=nn.Sequential(\n",
        "        conv(16+16, 16),\n",
        "        conv(16, 16)\n",
        "    )\n",
        "\n",
        "    #decoder 4\n",
        "    self.l4=nn.Sequential(deconv(16, 4))\n",
        "\n",
        "    self.k4=nn.Sequential(\n",
        "        conv(3, 4),\n",
        "        conv(4, 4)\n",
        "    )\n",
        "\n",
        "    self.k5=nn.Sequential(\n",
        "        conv(4+4, 4),\n",
        "        conv(4,4))\n",
        "\n",
        "    #outp\n",
        "    self.g=nn.Conv2d(4,1, kernel_size=1).to(device)\n",
        "\n",
        "  def forward(self, u, z12, z9, z6, z3):\n",
        "    x=self.l1(z12)\n",
        "    c=self.m1(z9)\n",
        "    x=torch.cat([x,c], dim=1)\n",
        "    x=self.k1(x)\n",
        "\n",
        "\n",
        "    x=self.l2(x)\n",
        "    c=self.m2(z6)\n",
        "    x=torch.cat([x,c], dim=1)\n",
        "    x=self.k2(x)\n",
        "\n",
        "    x=self.l3(x)\n",
        "    c=self.m3(z3)\n",
        "    x=torch.cat([x,c], dim=1)\n",
        "    x=self.k3(x)\n",
        "\n",
        "    x=self.l4(x)\n",
        "    c=self.k4(u)\n",
        "    x=torch.cat([x,c], dim=1)\n",
        "    x=self.k5(x)\n",
        "\n",
        "    x=self.g(x)\n",
        "\n",
        "    return x"
      ]
    },
    {
      "cell_type": "code",
      "source": [],
      "metadata": {
        "id": "GpEsAfrjyG9f"
      },
      "execution_count": null,
      "outputs": []
    },
    {
      "cell_type": "code",
      "execution_count": null,
      "metadata": {
        "id": "tYZKKbZfgu2z"
      },
      "outputs": [],
      "source": [
        "import os\n",
        "y=os.path.join('/content/drive/MyDrive/BraTS20_Training_167')\n",
        "dir=[os.path.join(y,y) for i in os.listdir(y) if '.csv' not in i]"
      ]
    },
    {
      "cell_type": "code",
      "source": [
        "dir=y"
      ],
      "metadata": {
        "id": "70lH3aPtZ4TC"
      },
      "execution_count": null,
      "outputs": []
    },
    {
      "cell_type": "code",
      "execution_count": null,
      "metadata": {
        "id": "yvcDovfBYLln"
      },
      "outputs": [],
      "source": [
        "def tensor(dir):\n",
        "    t=[]\n",
        "    l=[]\n",
        "    for i in ['flair', 't1', 't1ce', 't2']:\n",
        "        t.append(nib.load(dir+'/BraTS20_Training_167'+'_'+i+'.nii').get_fdata())\n",
        "    l.append(nib.load(dir+'/BraTS20_Training_167'+'_seg.nii').get_fdata())\n",
        "    y0=torch.tensor(t[0][:,:,:]).detach()\n",
        "    y1=torch.tensor(t[1][:,:,:]).detach()\n",
        "    y2=torch.tensor(t[2][:,:,:]).detach()\n",
        "    #y3=torch.tensor(t[3][:,:,:]).detach()\n",
        "    y4=torch.tensor(l[0][:,:,:]).detach()\n",
        "    n=torch.cat((y0[:,:,0].detach().clone().reshape(-1,240,240),y1[:,:,0].detach().clone().reshape(-1,240,240),y2[:,:,0].detach().clone().reshape(-1,240,240)),0).unsqueeze_(0)\n",
        "    n1=y4[:,:,0].detach().clone().reshape(-1,240,240).unsqueeze_(0)\n",
        "    for i in range(36,110):\n",
        "        n=torch.cat((n,torch.cat((y0[:,:,i].detach().clone().reshape(-1,240,240),y1[:,:,i].detach().clone().reshape(-1,240,240),y2[:,:,i].detach().clone().reshape(-1,240,240)),0).unsqueeze_(0)))\n",
        "        n1=torch.cat((n1,y4[:,:,i].detach().clone().reshape(-1,240,240).unsqueeze_(0)))\n",
        "    sz=Resize(256)\n",
        "    p=sz(n)\n",
        "    p1=sz(n1)\n",
        "    p=p.reshape(-1,3,256,256).type(torch.float32).to('cuda').detach()\n",
        "    p1=p1.reshape(-1,1,256,256).type(torch.float32).to('cuda').detach()\n",
        "    t=torch.randn(75).type(torch.float32).to('cuda').detach()\n",
        "    return p,p1,t"
      ]
    },
    {
      "cell_type": "code",
      "execution_count": null,
      "metadata": {
        "id": "Zt2ZYGmbYLlo"
      },
      "outputs": [],
      "source": [
        "u,p1,_=tensor(y)\n",
        "t=u.view(75,256,-1)"
      ]
    },
    {
      "cell_type": "code",
      "source": [
        "u.shape"
      ],
      "metadata": {
        "colab": {
          "base_uri": "https://localhost:8080/"
        },
        "id": "M7wHIsHLd3js",
        "outputId": "7682599c-66f3-44a9-debb-af52ea40bc94"
      },
      "execution_count": null,
      "outputs": [
        {
          "output_type": "execute_result",
          "data": {
            "text/plain": [
              "torch.Size([75, 3, 256, 256])"
            ]
          },
          "metadata": {},
          "execution_count": 22
        }
      ]
    },
    {
      "cell_type": "code",
      "source": [
        "import csv\n",
        "f= open('/content/drive/MyDrive/unetr_eval.csv', 'a+')\n",
        "s=csv.writer(f)\n",
        "s.writerow(['Loss', 'Accuracy', 'Dice', 'IoU', 'Hausdorff distance'])"
      ],
      "metadata": {
        "colab": {
          "base_uri": "https://localhost:8080/"
        },
        "id": "EzsEuBCHgd-y",
        "outputId": "5499edc2-df74-4fb9-9cc7-1e22eec4e930"
      },
      "execution_count": null,
      "outputs": [
        {
          "output_type": "execute_result",
          "data": {
            "text/plain": [
              "43"
            ]
          },
          "metadata": {},
          "execution_count": 23
        }
      ]
    },
    {
      "cell_type": "code",
      "execution_count": null,
      "metadata": {
        "id": "9tmjXTwqYLlp"
      },
      "outputs": [],
      "source": [
        "from torch import optim, nn\n",
        "\n",
        "b=build_transformer().to(device)\n",
        "dec=Decoder().to(device)\n",
        "#opt1=optim.Adam(b.parameters(), lr=1e-4)\n",
        "opt2=optim.Adam(dec.parameters(), lr=1e-2)\n",
        "l1=nn.MSELoss()\n",
        "epochs=10\n",
        "#b.load_state_dict(torch.load('/content/drive/MyDrive/transformer_unet_weights.pth'))\n",
        "#dec.load_state_dict(torch.load('/content/drive/MyDrive/unet_weights.pth'))\n",
        "#opt2.load_state_dict(torch.load('/content/drive/MyDrive/transformer_unet_opt.pth'))"
      ]
    },
    {
      "cell_type": "code",
      "execution_count": null,
      "metadata": {
        "colab": {
          "base_uri": "https://localhost:8080/"
        },
        "id": "1JHNH6GOYLlr",
        "outputId": "89e102e9-1e40-4573-abfd-d91ae9f10b47"
      },
      "outputs": [
        {
          "output_type": "stream",
          "name": "stderr",
          "text": [
            "Epoch 1000/1000: 100%|██████████| 1000/1000 [41:28<00:00,  2.49s/it, loss=0.00127]\n"
          ]
        }
      ],
      "source": [
        "from tqdm import tqdm\n",
        "pbar=tqdm(range(1000))\n",
        "for i in pbar:\n",
        "  #opt1.zero_grad()\n",
        "  opt2.zero_grad()\n",
        "  z,f=b.encode(t, None)\n",
        "  z3=f[0].reshape(-1,768,16,16)\n",
        "  z6=f[1].reshape(-1,768,16,16)\n",
        "  z9=f[2].reshape(-1,768,16,16)\n",
        "  z12=f[3].reshape(-1,768,16,16)\n",
        "  r=dec(t.reshape(75, 3, 256, 256), z12, z9, z6, z3)\n",
        "  loss=l1(r,p1)\n",
        "  loss.backward()\n",
        "  #opt1.step()\n",
        "  opt2.step()\n",
        "  pbar.set_description(f'Epoch {i+1}/1000')\n",
        "  pbar.set_postfix(loss=loss.item())\n",
        "  s.writerow([loss.item(), calculate_accuracy(r[35:95],p1[35:95]), calculate_dice_coefficient(r[35:95],p1[35:95]), intersection_over_union(r[35:95],p1[35:95]), hausdorff_distance(r[35:95].cpu(),p1[35:95].cpu())])"
      ]
    },
    {
      "cell_type": "code",
      "source": [
        "torch.save(b.state_dict(), '/content/drive/MyDrive/transformer_unet_weights.pth')\n",
        "torch.save(dec.state_dict(), '/content/drive/MyDrive/unet_weights.pth')\n",
        "torch.save(opt2.state_dict(), '/content/drive/MyDrive/transformer_unet_opt.pth')"
      ],
      "metadata": {
        "id": "3sdGSZjgmIyw"
      },
      "execution_count": null,
      "outputs": []
    },
    {
      "cell_type": "code",
      "source": [
        "import torch\n",
        "import numpy as np\n",
        "from scipy.spatial.distance import directed_hausdorff\n",
        "import cv2\n",
        "\n",
        "def calculate_f1_score(outputs, targets, threshold=0.2):\n",
        "    outputs = (outputs > threshold).float()\n",
        "    targets = (targets > 0.2).float()\n",
        "\n",
        "    true_positives = torch.sum(outputs * targets)\n",
        "    predicted_positives = torch.sum(outputs)\n",
        "    actual_positives = torch.sum(targets)\n",
        "\n",
        "    precision = true_positives / (predicted_positives + 1e-7)\n",
        "    recall = true_positives / (actual_positives + 1e-7)\n",
        "\n",
        "    f1_score = 2.0 * (precision * recall) / (precision + recall + 1e-7)\n",
        "\n",
        "    return f1_score.item()\n",
        "\n",
        "def calculate_precision(outputs, targets, threshold=0.2):\n",
        "    outputs = (outputs > threshold).float()\n",
        "    targets = (targets > 0.2).float()\n",
        "\n",
        "    true_positives = torch.sum(outputs * targets)\n",
        "    predicted_positives = torch.sum(outputs)\n",
        "\n",
        "    precision = true_positives / (predicted_positives + 1e-7)\n",
        "\n",
        "    return precision.item()\n",
        "\n",
        "def calculate_accuracy(r, p1, threshold=0.2):\n",
        "    p1 = (p1 - p1.min()) / (p1.max() - p1.min())\n",
        "    targets=p1.view(-1,128,128)\n",
        "    r = (r - r.min()) / (r.max() - r.min())\n",
        "    r[r<0.05]=0\n",
        "    outputs=r.view(-1,128,128)\n",
        "    outputs = (outputs > threshold).float()\n",
        "    targets = (targets > 0.2).float()\n",
        "\n",
        "    correct = torch.sum(outputs == targets)\n",
        "    total = torch.prod(torch.tensor(targets.size())).float()\n",
        "\n",
        "    accuracy = correct / total\n",
        "\n",
        "    return accuracy.item()\n",
        "\n",
        "def calculate_recall(outputs, targets, threshold=0.2):\n",
        "    outputs = (outputs > threshold).float()\n",
        "    targets = (targets > 0.2).float()\n",
        "\n",
        "    true_positives = torch.sum(outputs * targets)\n",
        "    actual_positives = torch.sum(targets)\n",
        "\n",
        "    recall = true_positives / (actual_positives + 1e-7)\n",
        "\n",
        "    return recall.item()\n",
        "\n",
        "\n",
        "def soft_iou(outputs, targets, threshold=0.2):\n",
        "    outputs_bin = (outputs > threshold).float()\n",
        "    targets_bin = (targets > 0.2).float()\n",
        "\n",
        "    intersection = torch.sum(outputs_bin * targets_bin)\n",
        "    union = torch.sum(outputs_bin) + torch.sum(targets_bin) - intersection\n",
        "    soft_iou = intersection / (union + 1e-7)\n",
        "\n",
        "    return soft_iou.item()\n",
        "\n",
        "def intersection_over_union(r, p1, threshold=0.2):\n",
        "\n",
        "    p1 = (p1 - p1.min()) / (p1.max() - p1.min())\n",
        "    targets=p1.view(-1,128,128)\n",
        "    r = (r - r.min()) / (r.max() - r.min())\n",
        "    r[r<0.05]=0\n",
        "    outputs=r.view(-1,128,128)\n",
        "    outputs = (outputs > threshold).float()\n",
        "    targets = (targets > threshold).float()\n",
        "\n",
        "    intersection = torch.sum(outputs * targets)\n",
        "    union = torch.sum(outputs) + torch.sum(targets) - intersection\n",
        "    iou = intersection / (union + 1e-7)\n",
        "\n",
        "    return iou.item()\n",
        "\n",
        "def surface_dice_similarity_coefficient(outputs, targets, threshold=0.2):\n",
        "\n",
        "    outputs = (outputs > threshold).float()\n",
        "    targets = (targets > threshold).float()\n",
        "\n",
        "    surface_dice = (2.0 * torch.sum(outputs * targets) + 1e-7) / (torch.sum(outputs) + torch.sum(targets) + 1e-7)\n",
        "\n",
        "    return surface_dice.item()\n",
        "\n",
        "def precision_recall_curve(outputs, targets, threshold_range=[0.1, 0.2, 0.3, 0.4, 0.5, 0.6, 0.7, 0.8, 0.9]):\n",
        "    precisions = []\n",
        "    recalls = []\n",
        "\n",
        "    for threshold in threshold_range:\n",
        "        outputs_bin = (outputs > threshold).float()\n",
        "        targets_bin = (targets > threshold).float()\n",
        "\n",
        "        true_positives = torch.sum(outputs_bin * targets_bin)\n",
        "        false_positives = torch.sum(outputs_bin * (1 - targets_bin))\n",
        "        false_negatives = torch.sum((1 - outputs_bin) * targets_bin)\n",
        "\n",
        "        precision = true_positives / (true_positives + false_positives + 1e-7)\n",
        "        recall = true_positives / (true_positives + false_negatives + 1e-7)\n",
        "\n",
        "        precisions.append(precision.item())\n",
        "        recalls.append(recall.item())\n",
        "\n",
        "    return {\"Precision\": precisions, \"Recall\": recalls}\n",
        "\n",
        "def mean_average_precision(precisions, recalls):\n",
        "\n",
        "    interpolated_precisions = [max(precisions[i:]) for i in range(len(precisions))]\n",
        "    mAP = np.mean(interpolated_precisions)\n",
        "\n",
        "    return mAP\n",
        "def hausdorff_distance(r, p1, threshold=0.1):\n",
        "\n",
        "    p1 = (p1 - p1.min()) / (p1.max() - p1.min())\n",
        "    targets=p1.view(-1,128,128)\n",
        "    r = (r - r.min()) / (r.max() - r.min())\n",
        "    r[r<0.05]=0\n",
        "    outputs=r.view(-1,128,128)\n",
        "    outputs = (outputs > threshold).float()\n",
        "    targets = (targets > threshold).float()\n",
        "\n",
        "    pred_boundary = _get_boundary(outputs)\n",
        "    gt_boundary = _get_boundary(targets)\n",
        "\n",
        "    hausdorff_dist = directed_hausdorff(pred_boundary, gt_boundary)[0]\n",
        "\n",
        "    return hausdorff_dist\n",
        "\n",
        "def calculate_dice_coefficient(r, p1, threshold=0.2):\n",
        "\n",
        "    p1 = (p1 - p1.min()) / (p1.max() - p1.min())\n",
        "    targets=p1.view(-1,128,128)\n",
        "    r = (r - r.min()) / (r.max() - r.min())\n",
        "    r[r<0.05]=0\n",
        "    outputs=r.view(-1,128,128)\n",
        "    outputs = (outputs > threshold).float()\n",
        "    targets = (targets > threshold).float()\n",
        "\n",
        "    intersection = torch.sum(outputs * targets)\n",
        "    dice_coefficient = (2.0 * intersection + 1e-7) / (torch.sum(outputs) + torch.sum(targets) + 1e-7)  # Add epsilon to avoid division by zero\n",
        "\n",
        "    return dice_coefficient.item()\n",
        "\n",
        "\n",
        "def average_symmetric_surface_distance(outputs, targets, threshold=0.1):\n",
        "    outputs = (outputs > threshold).float()\n",
        "    targets = (targets > threshold).float()\n",
        "    pred_boundary = _get_boundary(outputs)\n",
        "    gt_boundary = _get_boundary(targets)\n",
        "    ssd_pred_to_gt = _surface_distance(pred_boundary, gt_boundary)\n",
        "    ssd_gt_to_pred = _surface_distance(gt_boundary, pred_boundary)\n",
        "    assd = (ssd_pred_to_gt + ssd_gt_to_pred) / 2.0\n",
        "\n",
        "    return assd.item()\n",
        "\n",
        "def _get_boundary(mask):\n",
        "    boundary = []\n",
        "    for batch in mask:\n",
        "      contours, _ = cv2.findContours((batch.numpy() * 255).astype(np.uint8), cv2.RETR_EXTERNAL, cv2.CHAIN_APPROX_SIMPLE)\n",
        "      for contour in contours:\n",
        "          contour = contour.squeeze()\n",
        "          if len(contour.shape) == 1:\n",
        "              contour = np.expand_dims(contour, axis=0)\n",
        "          boundary.extend(contour.tolist())\n",
        "    return np.array(boundary)\n",
        "\n",
        "def _surface_distance(pred_boundary, gt_boundary):\n",
        "    if len(pred_boundary) == 0 or len(gt_boundary) == 0:\n",
        "        return np.inf\n",
        "\n",
        "    distances = np.linalg.norm(pred_boundary[:, None] - gt_boundary[None, :], axis=-1)\n",
        "    min_distances = np.min(distances, axis=1)\n",
        "\n",
        "    return np.mean(min_distances)"
      ],
      "metadata": {
        "id": "1TGpuQPjglTQ"
      },
      "execution_count": null,
      "outputs": []
    },
    {
      "cell_type": "code",
      "source": [
        "import pandas as pd\n",
        "import matplotlib.pyplot as plt\n",
        "csv_file = '/content/drive/MyDrive/unet_main_eval.csv'\n",
        "df = pd.read_csv(csv_file)\n",
        "print(df.head())\n",
        "num_columns = len(df.columns)\n",
        "fig, axes = plt.subplots(nrows=1, ncols=num_columns, figsize=(20, 5))\n",
        "if num_columns == 1:\n",
        "    axes = [axes]\n",
        "colors = ['b', 'g', 'r', 'c', 'm']\n",
        "for i, column in enumerate(df.columns):\n",
        "    axes[i].plot(df[column], color=colors[i], label=column)\n",
        "    axes[i].set_title(column)\n",
        "    axes[i].set_xlabel('Epochs')\n",
        "    axes[i].set_ylabel('Value')\n",
        "    axes[i].legend()\n",
        "plt.tight_layout()\n",
        "plt.show()\n"
      ],
      "metadata": {
        "colab": {
          "base_uri": "https://localhost:8080/",
          "height": 615
        },
        "id": "n4IBmwJ8tokV",
        "outputId": "eea2e40e-4ae2-4cfb-934f-d0af9582e271"
      },
      "execution_count": 26,
      "outputs": [
        {
          "output_type": "stream",
          "name": "stdout",
          "text": [
            "       Loss  Accuracy      Dice       IoU  Hausdorff distance\n",
            "0  0.106189  0.024171  0.047184  0.024162           80.919713\n",
            "1  0.085885  0.024958  0.047196  0.024168           80.919713\n",
            "2  0.055861  0.032134  0.047540  0.024349           80.919713\n",
            "3  0.037076  0.103147  0.050979  0.026156           80.919713\n",
            "4  0.025657  0.461262  0.081547  0.042507           80.919713\n"
          ]
        },
        {
          "output_type": "display_data",
          "data": {
            "text/plain": [
              "<Figure size 2000x500 with 5 Axes>"
            ],
            "image/png": "[encoded data removed]"
          },
          "metadata": {}
        }
      ]
    },
    {
      "cell_type": "code",
      "source": [],
      "metadata": {
        "id": "LFhxQ6YVu_we"
      },
      "execution_count": null,
      "outputs": []
    }
  ],
  "metadata": {
    "colab": {
      "provenance": [],
      "gpuType": "T4"
    },
    "kernelspec": {
      "display_name": "Python 3",
      "name": "python3"
    },
    "language_info": {
      "codemirror_mode": {
        "name": "ipython",
        "version": 3
      },
      "file_extension": ".py",
      "mimetype": "text/x-python",
      "name": "python",
      "nbconvert_exporter": "python",
      "pygments_lexer": "ipython3",
      "version": "3.9.12"
    },
    "accelerator": "GPU"
  },
  "nbformat": 4,
  "nbformat_minor": 0
}